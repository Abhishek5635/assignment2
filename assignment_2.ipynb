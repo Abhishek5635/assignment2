{
  "nbformat": 4,
  "nbformat_minor": 0,
  "metadata": {
    "colab": {
      "provenance": []
    },
    "kernelspec": {
      "name": "python3",
      "display_name": "Python 3"
    },
    "language_info": {
      "name": "python"
    }
  },
  "cells": [
    {
      "cell_type": "markdown",
      "source": [
        "1.What are the two values of the Boolean data type? How do you write them?"
      ],
      "metadata": {
        "id": "ankRIYBCkWQk"
      }
    },
    {
      "cell_type": "code",
      "execution_count": null,
      "metadata": {
        "id": "EqAUZvpC0T0A"
      },
      "outputs": [],
      "source": [
        "The two values of boolean data type are \"True\" and \"False\"\n",
        "\n",
        "The keyword for these two datatypes are same \"True\" and \"False\""
      ]
    },
    {
      "cell_type": "markdown",
      "source": [
        "2. What are the three different types of Boolean operators?"
      ],
      "metadata": {
        "id": "SrqIahpOooXK"
      }
    },
    {
      "cell_type": "code",
      "source": [
        " There are three bolean operators \n",
        "1) AND operator : It is denoted by the keyword and \n",
        "                  It returns the \"True\" if all the operands in an expression are true.\n",
        "\n",
        "2) OR operator : It is denoted by the keyword or\n",
        "                 It returns the \"True\" if at least one operand is true\n",
        "\n",
        "3) NOT operator : It is denoted by the keyword not\n",
        "                  It returns the opossite boolean value of operand"
      ],
      "metadata": {
        "id": "MjhxzAYhopTv"
      },
      "execution_count": null,
      "outputs": []
    },
    {
      "cell_type": "markdown",
      "source": [
        "3. Make a list of each Boolean operator&#39;s truth tables (i.e. every possible combination of Boolean\n",
        "values for the operator and what it evaluate )."
      ],
      "metadata": {
        "id": "R1hYWp2VqgyL"
      }
    },
    {
      "cell_type": "markdown",
      "source": [
        "### 1) AND Operator\n",
        "| operand_1 | operand_2 | Result |\n",
        "|-----------|-----------|--------|\n",
        "| false          |false           |  false      |\n",
        "|   true        |  false         |  false      |\n",
        "|    false       |   true        |     false   |\n",
        "|     true      |    true       |   true     |        \n",
        " \n",
        "### 2) OR operator\n",
        "| operand_1 | operand 2 | result|\n",
        "|-----------|-------|-------|\n",
        "|false|false|false|\n",
        "|true|false|true|\n",
        "|false|true|true|\n",
        "|true|true|true|\n",
        "\n",
        "### 3) not operator\n",
        "|operand_1|result|\n",
        "|---|---|\n",
        "|true|false|\n",
        "|false|true|"
      ],
      "metadata": {
        "id": "AxlvgztzrcwV"
      }
    },
    {
      "cell_type": "markdown",
      "source": [
        "4. What are the values of the following expressions?\n",
        "(5 &gt; 4) and (3 == 5)\n",
        "not (5 &gt; 4)\n",
        "(5 &gt; 4) or (3 == 5)\n",
        "not ((5 &gt; 4) or (3 == 5))\n",
        "(True and True) and (True == False)\n",
        "(not False) or (not True)"
      ],
      "metadata": {
        "id": "GsV7qux_vCu0"
      }
    },
    {
      "cell_type": "code",
      "source": [
        "1) (5 > 4) and (3 == 5) => \"False\"\n",
        "\n",
        "2) not (5 > 4) => \"False\"\n",
        "\n",
        "3) (5 > 4) or (3 == 5) => \"True\"\n",
        "\n",
        "4) not ((5 > 4) or (3 == 5)) => \"False\"\n",
        "\n",
        "5) (True and True) and (True == False) => \"False\"\n",
        "\n",
        "6) (not False) or (not True) => \"True\""
      ],
      "metadata": {
        "id": "T5J0REa9rbeq"
      },
      "execution_count": null,
      "outputs": []
    },
    {
      "cell_type": "markdown",
      "source": [
        "5. What are the six comparison operators?"
      ],
      "metadata": {
        "id": "t1LhcdZswX9I"
      }
    },
    {
      "cell_type": "code",
      "source": [
        "1) Equal to (==)\n",
        "2) Not equal to (!=)\n",
        "3) Greater than ( > )\n",
        "4) Less than ( < )\n",
        "5) Greater than or equal to ( >= )\n",
        "6) Less than or equal to ( < = )"
      ],
      "metadata": {
        "id": "58VaQEgdwZCU"
      },
      "execution_count": null,
      "outputs": []
    },
    {
      "cell_type": "markdown",
      "source": [
        "6. How do you tell the difference between the equal to and assignment operators?Describe a\n",
        "condition and when you would use one."
      ],
      "metadata": {
        "id": "iwW1oYG5xLuK"
      }
    },
    {
      "cell_type": "code",
      "source": [
        "1) assignment operator has ( = ) only one equal to symbol.\n",
        "  If there is only one equal to symboll the it show assignment operator\n",
        "  eg. x = 3\n",
        "\n",
        "2) Equal to comparision operator ( == ) has two equal symboll\n",
        "   eg. if x == 5:\n",
        "          print (x)"
      ],
      "metadata": {
        "id": "CBZhBtJRxRhG"
      },
      "execution_count": null,
      "outputs": []
    },
    {
      "cell_type": "markdown",
      "source": [
        "7. Identify the three blocks in this code:\n",
        "spam = 0\n",
        "if spam == 10:\n",
        "print(&#39;eggs&#39;)\n",
        "if spam &gt; 5:\n",
        "print(&#39;bacon&#39;)\n",
        "else:\n",
        "print(&#39;ham&#39;)\n",
        "print(&#39;spam&#39;)\n",
        "print(&#39;spam&#39;)"
      ],
      "metadata": {
        "id": "3ToHqJ7qySSo"
      }
    },
    {
      "cell_type": "code",
      "source": [
        "# First block\n",
        "spam = 0\n",
        "if spam == 10:\n",
        "print(\"eggs\")\n",
        "\n",
        "# Second block\n",
        "if spam > 5:\n",
        "print(\"bacon\")\n",
        "\n",
        "# Third block\n",
        "else:\n",
        "print(\"ham\")\n",
        "print(\"spam\")\n",
        "print(\"spam\")"
      ],
      "metadata": {
        "id": "z8s3Mn_ayTfo"
      },
      "execution_count": null,
      "outputs": []
    },
    {
      "cell_type": "markdown",
      "source": [
        "8. Write code that prints Hello if 1 is stored in spam, prints Howdy if 2 is stored in spam, and prints\n",
        "Greetings! if anything else is stored in spam."
      ],
      "metadata": {
        "id": "aRybHGNqzn1w"
      }
    },
    {
      "cell_type": "code",
      "source": [
        "spam = 0\n",
        "\n",
        "if spam == 1:\n",
        "  print(\"Hello\")\n",
        "\n",
        "elif spam == 2:\n",
        "  print(\"Howdy\")\n",
        "\n",
        "else:\n",
        "  print(\"Greatings!\")"
      ],
      "metadata": {
        "colab": {
          "base_uri": "https://localhost:8080/"
        },
        "id": "CDwoCNUTz1qP",
        "outputId": "a24f88c2-262f-420a-fb63-665ef3d2577a"
      },
      "execution_count": null,
      "outputs": [
        {
          "output_type": "stream",
          "name": "stdout",
          "text": [
            "Greatings!\n"
          ]
        }
      ]
    },
    {
      "cell_type": "markdown",
      "source": [
        "9.If your programme is stuck in an endless loop, what keys you’ll press?"
      ],
      "metadata": {
        "id": "rbABbdPW0Ybf"
      }
    },
    {
      "cell_type": "code",
      "source": [
        "1) we can stop it by keyboard interupt signal\n",
        "2) also we can use \"ctrl\" and \"c\" for stop execution\n",
        "3) we can add break keyword to break the  loop."
      ],
      "metadata": {
        "id": "v7UEtdcp0S5v"
      },
      "execution_count": null,
      "outputs": []
    },
    {
      "cell_type": "markdown",
      "source": [
        "10. How can you tell the difference between break and continue?"
      ],
      "metadata": {
        "id": "Y7x07ZiV1b_7"
      }
    },
    {
      "cell_type": "code",
      "source": [
        "from six import Iterator\n",
        "break : break is used when we have stop the iteration of current loop \n",
        "        break keyword ends the iteration and come out of the loop and excute the furthur code \n",
        "\n",
        "continue : continue keyword is used we have to skip the current iteration and jump to the next iteration\n",
        "           continue used where we dont want the value of current iteration\n",
        "           "
      ],
      "metadata": {
        "id": "gfNH8aZM1c7f"
      },
      "execution_count": null,
      "outputs": []
    },
    {
      "cell_type": "markdown",
      "source": [
        "11. In a for loop, what is the difference between range(10), range(0, 10), and range(0, 10, 1)?"
      ],
      "metadata": {
        "id": "qFTTz_6W2mhc"
      }
    },
    {
      "cell_type": "code",
      "source": [
        "for loop:\n",
        "\n",
        "1) range(10) => In a for loop it will start the iteration starts from 0 and ends to 9. and 10 will be excluded\n",
        "\n",
        "2)range(0,10) => In a for loop it will start the iteration starts from 0 and ends to 9. and 10 will be excluded\n",
        "\n",
        "3)range(0,10,1) => In a for loop it will start the iteration starts from 0 and ends to 9. and 10 will be excluded\n",
        "                   In this iteration will take the jump of 1\n",
        "\n",
        "all these three function will perform the same iteration\n"
      ],
      "metadata": {
        "id": "mcYwcbjx2xP8"
      },
      "execution_count": null,
      "outputs": []
    },
    {
      "cell_type": "markdown",
      "source": [
        "12. Write a short program that prints the numbers 1 to 10 using a for loop. Then write an equivalent\n",
        "program that prints the numbers 1 to 10 using a while loop."
      ],
      "metadata": {
        "id": "NC01sYPE4Z0U"
      }
    },
    {
      "cell_type": "code",
      "source": [
        "# using for loop\n",
        "for i in range(1,11):\n",
        "  print(i)\n",
        "\n",
        "i = 1\n",
        "while i<11:\n",
        "  print(i)\n",
        "  i =i+1"
      ],
      "metadata": {
        "id": "DKa5re_S23sq"
      },
      "execution_count": null,
      "outputs": []
    },
    {
      "cell_type": "markdown",
      "source": [
        "13. If you had a function named bacon() inside a module named spam, how would you call it after\n",
        "importing spam?"
      ],
      "metadata": {
        "id": "B9-lMJyf5bot"
      }
    },
    {
      "cell_type": "code",
      "source": [
        "import spam\n",
        "\n",
        "spam.bacon()"
      ],
      "metadata": {
        "id": "KF7emVKB5Cga"
      },
      "execution_count": null,
      "outputs": []
    }
  ]
}